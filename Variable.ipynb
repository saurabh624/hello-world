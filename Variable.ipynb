{
 "cells": [
  {
   "cell_type": "markdown",
   "id": "1052b063",
   "metadata": {},
   "source": [
    "## what is variable?\n",
    "### variables are container for storing values\n",
    "### python has no command for declaring variable\n",
    "### when you assign a value variable is created\n"
   ]
  },
  {
   "cell_type": "markdown",
   "id": "00a76293",
   "metadata": {},
   "source": [
    "## Rules of declaring variable\n",
    "### variable name must start with letter or underscore\n",
    "### A variable name cannot start with number\n",
    "### A variable name only contain alpha numeric charachter and underscore(A-z 0-9)"
   ]
  },
  {
   "cell_type": "code",
   "execution_count": 1,
   "id": "f5e5bfe7",
   "metadata": {},
   "outputs": [
    {
     "ename": "SyntaxError",
     "evalue": "invalid syntax (<ipython-input-1-98fdefe51d0c>, line 1)",
     "output_type": "error",
     "traceback": [
      "\u001b[1;36m  File \u001b[1;32m\"<ipython-input-1-98fdefe51d0c>\"\u001b[1;36m, line \u001b[1;32m1\u001b[0m\n\u001b[1;33m    1Nickname= \"saurabh\"\u001b[0m\n\u001b[1;37m     ^\u001b[0m\n\u001b[1;31mSyntaxError\u001b[0m\u001b[1;31m:\u001b[0m invalid syntax\n"
     ]
    }
   ],
   "source": [
    "1Nickname= \"saurabh\""
   ]
  },
  {
   "cell_type": "code",
   "execution_count": 2,
   "id": "2d9b4be8",
   "metadata": {},
   "outputs": [
    {
     "data": {
      "text/plain": [
       "(1, 2, 3)"
      ]
     },
     "execution_count": 2,
     "metadata": {},
     "output_type": "execute_result"
    }
   ],
   "source": [
    "_list = 1,2,3\n",
    "_list"
   ]
  },
  {
   "cell_type": "code",
   "execution_count": 5,
   "id": "153895bb",
   "metadata": {},
   "outputs": [
    {
     "data": {
      "text/plain": [
       "'sauranj'"
      ]
     },
     "execution_count": 5,
     "metadata": {},
     "output_type": "execute_result"
    }
   ],
   "source": [
    "Nick1name = 'sauranj'\n",
    "Nick1name"
   ]
  },
  {
   "cell_type": "code",
   "execution_count": 6,
   "id": "9ea10efe",
   "metadata": {},
   "outputs": [
    {
     "ename": "SyntaxError",
     "evalue": "cannot assign to operator (<ipython-input-6-d84198553c11>, line 1)",
     "output_type": "error",
     "traceback": [
      "\u001b[1;36m  File \u001b[1;32m\"<ipython-input-6-d84198553c11>\"\u001b[1;36m, line \u001b[1;32m1\u001b[0m\n\u001b[1;33m    Nicj@name = \"saurabh\"\u001b[0m\n\u001b[1;37m    ^\u001b[0m\n\u001b[1;31mSyntaxError\u001b[0m\u001b[1;31m:\u001b[0m cannot assign to operator\n"
     ]
    }
   ],
   "source": [
    "Nicj@name = \"saurabh\""
   ]
  },
  {
   "cell_type": "code",
   "execution_count": 7,
   "id": "5dcaf5c0",
   "metadata": {},
   "outputs": [
    {
     "data": {
      "text/plain": [
       "23"
      ]
     },
     "execution_count": 7,
     "metadata": {},
     "output_type": "execute_result"
    }
   ],
   "source": [
    "age = 23\n",
    "age"
   ]
  },
  {
   "cell_type": "code",
   "execution_count": 9,
   "id": "ab2411c2",
   "metadata": {},
   "outputs": [
    {
     "ename": "NameError",
     "evalue": "name 'Age' is not defined",
     "output_type": "error",
     "traceback": [
      "\u001b[1;31m---------------------------------------------------------------------------\u001b[0m",
      "\u001b[1;31mNameError\u001b[0m                                 Traceback (most recent call last)",
      "\u001b[1;32m<ipython-input-9-f798102fc000>\u001b[0m in \u001b[0;36m<module>\u001b[1;34m\u001b[0m\n\u001b[1;32m----> 1\u001b[1;33m \u001b[0mAge\u001b[0m\u001b[1;33m\u001b[0m\u001b[1;33m\u001b[0m\u001b[0m\n\u001b[0m",
      "\u001b[1;31mNameError\u001b[0m: name 'Age' is not defined"
     ]
    }
   ],
   "source": [
    "Age## case sensitive"
   ]
  },
  {
   "cell_type": "code",
   "execution_count": 11,
   "id": "3dfc473d",
   "metadata": {},
   "outputs": [
    {
     "data": {
      "text/plain": [
       "23"
      ]
     },
     "execution_count": 11,
     "metadata": {},
     "output_type": "execute_result"
    }
   ],
   "source": [
    "Nick_name = 23\n",
    "Nick_name"
   ]
  },
  {
   "cell_type": "code",
   "execution_count": 8,
   "id": "3038471d",
   "metadata": {},
   "outputs": [
    {
     "ename": "SyntaxError",
     "evalue": "invalid syntax (<ipython-input-8-6eb932f403a9>, line 1)",
     "output_type": "error",
     "traceback": [
      "\u001b[1;36m  File \u001b[1;32m\"<ipython-input-8-6eb932f403a9>\"\u001b[1;36m, line \u001b[1;32m1\u001b[0m\n\u001b[1;33m    l0 ist = 1,2,3\u001b[0m\n\u001b[1;37m       ^\u001b[0m\n\u001b[1;31mSyntaxError\u001b[0m\u001b[1;31m:\u001b[0m invalid syntax\n"
     ]
    }
   ],
   "source": [
    "l0 ist = 1,2,3\n",
    "l0 ist"
   ]
  },
  {
   "cell_type": "code",
   "execution_count": null,
   "id": "ed388885",
   "metadata": {},
   "outputs": [],
   "source": []
  },
  {
   "cell_type": "code",
   "execution_count": null,
   "id": "0fb3bde6",
   "metadata": {},
   "outputs": [],
   "source": []
  }
 ],
 "metadata": {
  "kernelspec": {
   "display_name": "Python 3",
   "language": "python",
   "name": "python3"
  },
  "language_info": {
   "codemirror_mode": {
    "name": "ipython",
    "version": 3
   },
   "file_extension": ".py",
   "mimetype": "text/x-python",
   "name": "python",
   "nbconvert_exporter": "python",
   "pygments_lexer": "ipython3",
   "version": "3.8.8"
  }
 },
 "nbformat": 4,
 "nbformat_minor": 5
}
